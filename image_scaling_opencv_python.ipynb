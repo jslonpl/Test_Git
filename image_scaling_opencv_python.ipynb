{
  "nbformat": 4,
  "nbformat_minor": 0,
  "metadata": {
    "colab": {
      "provenance": [],
      "mount_file_id": "1xtF_TF-vU6E8l4MspM7-HX1XsxbfoRzR",
      "authorship_tag": "ABX9TyPCEjwsqC0wvUYYHNlC8HAu",
      "include_colab_link": true
    },
    "kernelspec": {
      "name": "python3",
      "display_name": "Python 3"
    },
    "language_info": {
      "name": "python"
    }
  },
  "cells": [
    {
      "cell_type": "markdown",
      "metadata": {
        "id": "view-in-github",
        "colab_type": "text"
      },
      "source": [
        "<a href=\"https://colab.research.google.com/github/jslonpl/Test_Git/blob/main/image_scaling_opencv_python.ipynb\" target=\"_parent\"><img src=\"https://colab.research.google.com/assets/colab-badge.svg\" alt=\"Open In Colab\"/></a>"
      ]
    },
    {
      "cell_type": "code",
      "execution_count": null,
      "metadata": {
        "id": "W_pwtn1-Q80p"
      },
      "outputs": [],
      "source": [
        "import cv2 as cv\n",
        "import os\n",
        "import numpy as np"
      ]
    },
    {
      "cell_type": "code",
      "source": [
        "import os\n",
        "dir_path = 'drive/MyDrive/Colab Notebooks/clear_line/img'\n",
        "img_obj = []\n",
        "for img_No, img_name in enumerate (os.listdir(dir_path)):\n",
        "  img_obj.append(os.path.join(dir_path, img_name))"
      ],
      "metadata": {
        "id": "nYr9FMi2Razp"
      },
      "execution_count": null,
      "outputs": []
    },
    {
      "cell_type": "code",
      "source": [],
      "metadata": {
        "colab": {
          "base_uri": "https://localhost:8080/"
        },
        "id": "yWJHfdLhRrYJ",
        "outputId": "10808826-3cb7-4183-a3f5-f03e18de93da"
      },
      "execution_count": null,
      "outputs": [
        {
          "output_type": "stream",
          "name": "stdout",
          "text": [
            "drive/MyDrive/Colab Notebooks/clear_line/img/0.jpg\n"
          ]
        }
      ]
    },
    {
      "cell_type": "markdown",
      "source": [
        "Creating list, that contains 4 ideal images ( visible 5 ideal rows ) from directory."
      ],
      "metadata": {
        "id": "za53wDf-WAeh"
      }
    },
    {
      "cell_type": "code",
      "source": [],
      "metadata": {
        "id": "1kTs18M3bXRb"
      },
      "execution_count": null,
      "outputs": []
    },
    {
      "cell_type": "code",
      "source": [
        "dir_path = 'drive/MyDrive/Colab Notebooks/clear_line/img/ideal_5_rows'\n",
        "\n",
        "def load_image_from_directory(dir_path):\n",
        "  images = []\n",
        "  for filename in os.listdir(dir_path):\n",
        "    if filename.endswith('.jpg'):\n",
        "      img_path = os.path.join(dir_path, filename)\n",
        "      #img = cv.imread(img_path, cv.IMREAD_GRAYSCALE)\n",
        "      img = cv.imread(img_path)\n",
        "      if img is not None:\n",
        "        images.append(img)\n",
        "  return images"
      ],
      "metadata": {
        "id": "E7VsP9DnWKNU"
      },
      "execution_count": null,
      "outputs": []
    },
    {
      "cell_type": "markdown",
      "source": [],
      "metadata": {
        "id": "vk7aOUJnba8f"
      }
    },
    {
      "cell_type": "code",
      "source": [
        "from PIL import Image\n",
        "from IPython.display import display\n",
        "\n",
        "def colab_imshow(img, text):\n",
        "  image_rgb = cv.cvtColor(img, cv.COLOR_BGR2RGB)\n",
        "  pil_img = Image.fromarray(image_rgb)\n",
        "  display(str(text),pil_img)"
      ],
      "metadata": {
        "id": "LBKsyZPMXiiP"
      },
      "execution_count": null,
      "outputs": []
    },
    {
      "cell_type": "markdown",
      "source": [
        "In order to show img with using google colab use function : colab_imshow(), where img is image.jpg"
      ],
      "metadata": {
        "id": "TSrQNhxDalJL"
      }
    },
    {
      "cell_type": "code",
      "source": [
        "images = load_image_from_directory(dir_path)\n",
        "colab_imshow(images[2], \"test\")"
      ],
      "metadata": {
        "id": "Y4lIjselZayh"
      },
      "execution_count": null,
      "outputs": []
    },
    {
      "cell_type": "markdown",
      "source": [
        "Characteristic points SIFT detector initialization"
      ],
      "metadata": {
        "id": "f4fl0_zUbdKK"
      }
    },
    {
      "cell_type": "code",
      "source": [
        "import cv2 as cv\n",
        "import numpy as np\n",
        "\n",
        "#dir_path = 'drive/MyDrive/Colab Notebooks/clear_line/img'\n",
        "dir_path = 'drive/MyDrive/Colab Notebooks/clear_line/img/ideal_5_rows'\n",
        "\n",
        "# Wczytanie 12 zdjęć (zakładając, że mają nazwy image1.png, image2.png, ..., image12.png)\n",
        "images = load_image_from_directory(dir_path)\n",
        "\n",
        "# Inicjalizacja detektora punktów charakterystycznych SIFT\n",
        "sift = cv.SIFT_create()\n",
        "\n",
        "# Wykrycie punktów charakterystycznych na wszystkich obrazach\n",
        "keypoints_list = []\n",
        "descriptors_list = []\n",
        "for image in images:\n",
        "    keypoints, descriptors = sift.detectAndCompute(image, None)\n",
        "    keypoints_list.append(keypoints)\n",
        "    descriptors_list.append(descriptors)\n",
        "\n",
        "# Dopasowanie punktów charakterystycznych między parą obrazów\n",
        "matcher = cv.BFMatcher()\n",
        "matches_list = []\n",
        "for i in range(len(images) - 1):\n",
        "    matches = matcher.knnMatch(descriptors_list[i], descriptors_list[i + 1], k=2)\n",
        "    good_matches = []\n",
        "    for m, n in matches:\n",
        "        if m.distance < 0.75 * n.distance:\n",
        "            good_matches.append(m)\n",
        "    matches_list.append(good_matches)\n",
        "\n",
        "# Przygotowanie punktów charakterystycznych do obliczenia macierzy transformacji\n",
        "src_pts_list = []\n",
        "dst_pts_list = []\n",
        "for i, matches in enumerate(matches_list):\n",
        "    src_pts = np.float32([keypoints_list[i][m.queryIdx].pt for m in matches]).reshape(-1, 1, 2)\n",
        "    dst_pts = np.float32([keypoints_list[i + 1][m.trainIdx].pt for m in matches]).reshape(-1, 1, 2)\n",
        "    src_pts_list.append(src_pts)\n",
        "    dst_pts_list.append(dst_pts)\n",
        "\n",
        "# Obliczenie macierzy transformacji afinicznej (macierzy homografii) dla każdej pary obrazów\n",
        "M_list = []\n",
        "for src_pts, dst_pts in zip(src_pts_list, dst_pts_list):\n",
        "  M, _ = cv.findHomography(src_pts, dst_pts, cv.RANSAC, 5.0)\n",
        "  M_list.append(M)\n",
        "\n",
        "# Wybranie obrazu do przeprowadzenia transformacji perspektywicznej (np. image1.png)\n",
        "chosen_image_idx = 0\n",
        "chosen_image = images[chosen_image_idx]\n",
        "\n",
        "# Przeprowadzenie transformacji perspektywicznej na wybranym obrazie\n",
        "output_image = chosen_image\n",
        "for i, M in enumerate(M_list):\n",
        "    if i < chosen_image_idx:\n",
        "        output_image = cv.warpPerspective(output_image, M, (output_image.shape[1], output_image.shape[0]))\n",
        "    elif i > chosen_image_idx:\n",
        "        M_inv = np.linalg.inv(M)\n",
        "        output_image = cv.warpPerspective(output_image, M_inv, (output_image.shape[1], output_image.shape[0]))\n",
        "\n",
        "# Wyświetlanie wyniku\n",
        "colab_imshow(chosen_image, \"WYbrany obraz przed transformacją\")\n",
        "colab_imshow(output_image, 'Obraz po transformacji')"
      ],
      "metadata": {
        "id": "hD7vGsMhH43n"
      },
      "execution_count": null,
      "outputs": []
    },
    {
      "cell_type": "markdown",
      "source": [
        "Test"
      ],
      "metadata": {
        "id": "TXNWaoA_Tcf8"
      }
    },
    {
      "cell_type": "code",
      "source": [
        "# Wybranie obrazu do przeprowadzenia transformacji perspektywicznej (np. image1.png)\n",
        "dir_path = 'drive/MyDrive/Colab Notebooks/clear_line/img'\n",
        "images = load_image_from_directory(dir_path)\n",
        "chosen_image_idx = 9\n",
        "chosen_image = images[chosen_image_idx]\n",
        "\n",
        "# Przeprowadzenie transformacji perspektywicznej na wybranym obrazie\n",
        "output_image = chosen_image\n",
        "for i, M in enumerate(M_list):\n",
        "    if i < chosen_image_idx:\n",
        "        output_image = cv.warpPerspective(output_image, M, (output_image.shape[1], output_image.shape[0]))\n",
        "    elif i > chosen_image_idx:\n",
        "        M_inv = np.linalg.inv(M)\n",
        "        output_image = cv.warpPerspective(output_image, M_inv, (output_image.shape[1], output_image.shape[0]))\n",
        "\n",
        "# Wyświetlanie wyniku\n",
        "colab_imshow(chosen_image, \"WYbrany obraz przed transformacją\")\n",
        "colab_imshow(output_image, 'Obraz po transformacji')"
      ],
      "metadata": {
        "id": "22ooa8F_Qlb8"
      },
      "execution_count": null,
      "outputs": []
    },
    {
      "cell_type": "markdown",
      "source": [
        "Ostateczny rezultat transformacji nie jest satysfakcjonujący.\n",
        "\n",
        "Należy przeprowadzić dodatkowy research w celu znalezienia lepszej metody bądź dostosowania aktualnej."
      ],
      "metadata": {
        "id": "mQs2ti1FRI6a"
      }
    }
  ]
}